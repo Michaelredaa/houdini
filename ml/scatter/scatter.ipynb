{
 "cells": [
  {
   "cell_type": "code",
   "execution_count": 2,
   "metadata": {},
   "outputs": [
    {
     "data": {
      "text/plain": [
       "sys.version_info(major=3, minor=9, micro=11, releaselevel='final', serial=0)"
      ]
     },
     "execution_count": 2,
     "metadata": {},
     "output_type": "execute_result"
    }
   ],
   "source": [
    "import os, sys\n",
    "import pandas as pd\n",
    "from sklearn.model_selection import train_test_split\n",
    "from sklearn.ensemble import RandomForestClassifier\n",
    "from sklearn.metrics import accuracy_score\n",
    "from sklearn.preprocessing import MinMaxScaler\n",
    "from sklearn.preprocessing import StandardScaler\n",
    "from joblib import dump\n",
    "\n",
    "sys.version_info"
   ]
  },
  {
   "cell_type": "code",
   "execution_count": 8,
   "metadata": {},
   "outputs": [
    {
     "data": {
      "text/html": [
       "<div>\n",
       "<style scoped>\n",
       "    .dataframe tbody tr th:only-of-type {\n",
       "        vertical-align: middle;\n",
       "    }\n",
       "\n",
       "    .dataframe tbody tr th {\n",
       "        vertical-align: top;\n",
       "    }\n",
       "\n",
       "    .dataframe thead th {\n",
       "        text-align: right;\n",
       "    }\n",
       "</style>\n",
       "<table border=\"1\" class=\"dataframe\">\n",
       "  <thead>\n",
       "    <tr style=\"text-align: right;\">\n",
       "      <th></th>\n",
       "      <th>Elevation</th>\n",
       "      <th>Slope</th>\n",
       "      <th>Horizontal_Distance_To_Hydrology</th>\n",
       "      <th>Vertical_Distance_To_Hydrology</th>\n",
       "    </tr>\n",
       "  </thead>\n",
       "  <tbody>\n",
       "    <tr>\n",
       "      <th>0</th>\n",
       "      <td>2596</td>\n",
       "      <td>3</td>\n",
       "      <td>258</td>\n",
       "      <td>0</td>\n",
       "    </tr>\n",
       "    <tr>\n",
       "      <th>1</th>\n",
       "      <td>2590</td>\n",
       "      <td>2</td>\n",
       "      <td>212</td>\n",
       "      <td>-6</td>\n",
       "    </tr>\n",
       "    <tr>\n",
       "      <th>2</th>\n",
       "      <td>2804</td>\n",
       "      <td>9</td>\n",
       "      <td>268</td>\n",
       "      <td>65</td>\n",
       "    </tr>\n",
       "    <tr>\n",
       "      <th>3</th>\n",
       "      <td>2785</td>\n",
       "      <td>18</td>\n",
       "      <td>242</td>\n",
       "      <td>118</td>\n",
       "    </tr>\n",
       "    <tr>\n",
       "      <th>4</th>\n",
       "      <td>2595</td>\n",
       "      <td>2</td>\n",
       "      <td>153</td>\n",
       "      <td>-1</td>\n",
       "    </tr>\n",
       "    <tr>\n",
       "      <th>...</th>\n",
       "      <td>...</td>\n",
       "      <td>...</td>\n",
       "      <td>...</td>\n",
       "      <td>...</td>\n",
       "    </tr>\n",
       "    <tr>\n",
       "      <th>15115</th>\n",
       "      <td>2607</td>\n",
       "      <td>23</td>\n",
       "      <td>258</td>\n",
       "      <td>7</td>\n",
       "    </tr>\n",
       "    <tr>\n",
       "      <th>15116</th>\n",
       "      <td>2603</td>\n",
       "      <td>19</td>\n",
       "      <td>633</td>\n",
       "      <td>195</td>\n",
       "    </tr>\n",
       "    <tr>\n",
       "      <th>15117</th>\n",
       "      <td>2492</td>\n",
       "      <td>25</td>\n",
       "      <td>365</td>\n",
       "      <td>117</td>\n",
       "    </tr>\n",
       "    <tr>\n",
       "      <th>15118</th>\n",
       "      <td>2487</td>\n",
       "      <td>28</td>\n",
       "      <td>218</td>\n",
       "      <td>101</td>\n",
       "    </tr>\n",
       "    <tr>\n",
       "      <th>15119</th>\n",
       "      <td>2475</td>\n",
       "      <td>34</td>\n",
       "      <td>319</td>\n",
       "      <td>78</td>\n",
       "    </tr>\n",
       "  </tbody>\n",
       "</table>\n",
       "<p>15120 rows × 4 columns</p>\n",
       "</div>"
      ],
      "text/plain": [
       "       Elevation  Slope  Horizontal_Distance_To_Hydrology  \\\n",
       "0           2596      3                               258   \n",
       "1           2590      2                               212   \n",
       "2           2804      9                               268   \n",
       "3           2785     18                               242   \n",
       "4           2595      2                               153   \n",
       "...          ...    ...                               ...   \n",
       "15115       2607     23                               258   \n",
       "15116       2603     19                               633   \n",
       "15117       2492     25                               365   \n",
       "15118       2487     28                               218   \n",
       "15119       2475     34                               319   \n",
       "\n",
       "       Vertical_Distance_To_Hydrology  \n",
       "0                                   0  \n",
       "1                                  -6  \n",
       "2                                  65  \n",
       "3                                 118  \n",
       "4                                  -1  \n",
       "...                               ...  \n",
       "15115                               7  \n",
       "15116                             195  \n",
       "15117                             117  \n",
       "15118                             101  \n",
       "15119                              78  \n",
       "\n",
       "[15120 rows x 4 columns]"
      ]
     },
     "execution_count": 8,
     "metadata": {},
     "output_type": "execute_result"
    }
   ],
   "source": [
    "df = pd.read_csv(\"data_set/train.csv\")\n",
    "\n",
    "columns = ['Elevation', 'Slope', 'Horizontal_Distance_To_Hydrology', 'Vertical_Distance_To_Hydrology']\n",
    "\n",
    "X = df[columns]\n",
    "\n",
    "X\n",
    "\n"
   ]
  },
  {
   "cell_type": "code",
   "execution_count": 10,
   "metadata": {},
   "outputs": [
    {
     "data": {
      "text/plain": [
       "array([5, 5, 2, ..., 3, 3, 3])"
      ]
     },
     "execution_count": 10,
     "metadata": {},
     "output_type": "execute_result"
    }
   ],
   "source": [
    "scalar = MinMaxScaler()\n",
    "scalar.fit(X)\n",
    "X = scalar.transform(X)\n",
    "types = df[\"Cover_Type\"].values.astype(int)\n",
    "types"
   ]
  },
  {
   "cell_type": "code",
   "execution_count": 15,
   "metadata": {},
   "outputs": [
    {
     "data": {
      "text/plain": [
       "0.673941798941799"
      ]
     },
     "execution_count": 15,
     "metadata": {},
     "output_type": "execute_result"
    }
   ],
   "source": [
    "# split data into training and test data\n",
    "\n",
    "X_train, X_test, y_train, y_test = train_test_split(X, types, test_size=0.2, random_state=101)\n",
    "\n",
    "# train model\n",
    "clf = RandomForestClassifier()\n",
    "clf.fit(X_train, y_train)\n",
    "\n",
    "# Evaluates the trained model using accuracy score\n",
    "y_predict = clf.predict(X_test)\n",
    "accuracy = accuracy_score(y_test, y_predict)\n",
    "accuracy\n"
   ]
  },
  {
   "cell_type": "code",
   "execution_count": 17,
   "metadata": {},
   "outputs": [
    {
     "data": {
      "text/plain": [
       "['models/tree_scatter.joblib']"
      ]
     },
     "execution_count": 17,
     "metadata": {},
     "output_type": "execute_result"
    }
   ],
   "source": [
    "# Save Model\n",
    "dump(clf, \"models/tree_scatter.joblib\")"
   ]
  },
  {
   "cell_type": "code",
   "execution_count": null,
   "metadata": {},
   "outputs": [],
   "source": [
    "# houdini node\n",
    "\n",
    "import pandas as pd\n",
    "from joblib import load\n",
    "from sklearn.preprocessing import MinMaxScaler\n",
    "\n",
    "import hou\n",
    "\n",
    "node: hou.SopNode = hou.pwd()\n",
    "geo: hou.Geometry = node.geometry()\n",
    "\n",
    "columns = ['Elevation', 'Slope', 'Horizontal_Distance_To_Hydrology', 'Vertical_Distance_To_Hydrology']\n",
    "\n",
    "X = pd.DataFrame(columns=columns)\n",
    "\n",
    "for p in geo.points():\n",
    "    point_data = [\n",
    "        p.attribValue(\"height\"),\n",
    "        p.attribValue(\"slope\"),\n",
    "        p.attribValue(\"water\"),\n",
    "        p.attribValue(\"water\"),\n",
    "    ]\n",
    "    \n",
    "    X.loc[p.number()] = point_data\n",
    "\n",
    "\n",
    "scalar = MinMaxScaler()\n",
    "scalar.fit(X)\n",
    "X = scalar.transform(X)\n",
    "    \n",
    "clf = load(\"models/tree_scatter.joblib\")\n",
    "\n",
    "y_predict = clf.predict(X)\n",
    "\n",
    "for p in geo.points():\n",
    "    p.setAttribValue(\"cover_type\", int(y_predict[p.number()]))\n",
    "    \n",
    "\n",
    "\n"
   ]
  }
 ],
 "metadata": {
  "kernelspec": {
   "display_name": "Python 3",
   "language": "python",
   "name": "python3"
  },
  "language_info": {
   "codemirror_mode": {
    "name": "ipython",
    "version": 3
   },
   "file_extension": ".py",
   "mimetype": "text/x-python",
   "name": "python",
   "nbconvert_exporter": "python",
   "pygments_lexer": "ipython3",
   "version": "3.9.11"
  }
 },
 "nbformat": 4,
 "nbformat_minor": 2
}
